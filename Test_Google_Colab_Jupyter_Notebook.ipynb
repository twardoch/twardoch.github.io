{
  "nbformat": 4,
  "nbformat_minor": 0,
  "metadata": {
    "colab": {
      "name": "Test Google Colab Jupyter Notebook.ipynb",
      "provenance": [],
      "authorship_tag": "ABX9TyMWU9lXFtvWNKlX/LYnlWoj",
      "include_colab_link": true
    },
    "kernelspec": {
      "name": "python3",
      "display_name": "Python 3"
    },
    "language_info": {
      "name": "python"
    }
  },
  "cells": [
    {
      "cell_type": "markdown",
      "metadata": {
        "id": "view-in-github",
        "colab_type": "text"
      },
      "source": [
        "<a href=\"https://colab.research.google.com/github/twardoch/twardoch.github.io/blob/master/Test_Google_Colab_Jupyter_Notebook.ipynb\" target=\"_parent\"><img src=\"https://colab.research.google.com/assets/colab-badge.svg\" alt=\"Open In Colab\"/></a>"
      ]
    },
    {
      "cell_type": "markdown",
      "source": [
        "# fontTools example\n",
        "\n",
        "This is an example how you can install fontTools in a Google Colab notebook and use it with a font fetched from the web."
      ],
      "metadata": {
        "id": "tl_Z93BK2gEl"
      }
    },
    {
      "cell_type": "markdown",
      "source": [
        "First, we need a **shell** cell (code prefixed with `!`) that installs the necessary Python modules (`fs` for memory filesystem, and `fonttools` with all the options, just to see if it works)."
      ],
      "metadata": {
        "id": "rluZtw8Q2wYP"
      }
    },
    {
      "cell_type": "code",
      "source": [
        "!pip install -U fs fonttools[ufo,lxml,woff,unicode,interpolatable,plot,symfont,pathops]"
      ],
      "metadata": {
        "id": "ksHL8Vjv2s7_"
      },
      "execution_count": null,
      "outputs": []
    },
    {
      "cell_type": "markdown",
      "source": [
        "Then, we have a **Python** cell that defines a variable `url`, which gives the URL to a font file."
      ],
      "metadata": {
        "id": "-3UxnBdf3Fqp"
      }
    },
    {
      "cell_type": "code",
      "source": [
        "url = \"https://github.com/googlefonts/noto-fonts/raw/main/unhinted/variable-ttf/NotoSans-VF.ttf\""
      ],
      "metadata": {
        "id": "96bdwngf3FMY"
      },
      "execution_count": null,
      "outputs": []
    },
    {
      "cell_type": "markdown",
      "source": [
        "Another cell fetches the file and opens with `fontTools.ttLib`. This code could probably be better. "
      ],
      "metadata": {
        "id": "f5EJX0vN26V4"
      }
    },
    {
      "cell_type": "code",
      "source": [
        ""
      ],
      "metadata": {
        "id": "_DeoK7bY3fxz"
      },
      "execution_count": null,
      "outputs": []
    },
    {
      "cell_type": "code",
      "source": [
        "from fontTools import ttLib\n",
        "from urllib.request import urlopen\n",
        "import fs.copy, fs.memoryfs\n",
        "\n",
        "mem_fs = fs.memoryfs.MemoryFS()\n",
        "\n",
        "with urlopen(url) as response:\n",
        "   data = response.read()\n",
        "mem_f = mem_fs.openbin(\"font\", mode='rw')\n",
        "mem_f.write(data)\n",
        "f = ttLib.TTFont(mem_f)"
      ],
      "metadata": {
        "id": "6vdh_Ap8MBMF",
        "colab": {
          "base_uri": "https://localhost:8080/"
        },
        "outputId": "da6325e4-1e8e-46bf-af98-55ac76a9e4ee"
      },
      "execution_count": null,
      "outputs": [
        {
          "output_type": "execute_result",
          "data": {
            "text/plain": [
              "2539368"
            ]
          },
          "metadata": {},
          "execution_count": 5
        }
      ]
    },
    {
      "cell_type": "markdown",
      "source": [
        "Finally, we can do things with the `f` object."
      ],
      "metadata": {
        "id": "RUuhrUyK3nW8"
      }
    },
    {
      "cell_type": "code",
      "source": [
        "print(f.keys())"
      ],
      "metadata": {
        "id": "SWA6dEuA3yGD"
      },
      "execution_count": null,
      "outputs": []
    }
  ]
}