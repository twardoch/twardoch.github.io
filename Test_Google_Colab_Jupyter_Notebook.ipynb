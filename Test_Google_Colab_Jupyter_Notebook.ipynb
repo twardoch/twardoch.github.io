{
 "cells": [
  {
   "cell_type": "markdown",
   "metadata": {
    "colab_type": "text",
    "id": "view-in-github"
   },
   "source": [
    "<a href=\"https://colab.research.google.com/github/twardoch/twardoch.github.io/blob/master/Test_Google_Colab_Jupyter_Notebook.ipynb\" target=\"_parent\"><img src=\"https://colab.research.google.com/assets/colab-badge.svg\" alt=\"Open In Colab\"/></a>"
   ]
  },
  {
   "cell_type": "markdown",
   "metadata": {
    "id": "tl_Z93BK2gEl"
   },
   "source": [
    "# fontTools example\n",
    "\n",
    "This is an example how you can install fontTools in a Google Colab notebook and use it with a font fetched from the web."
   ]
  },
  {
   "cell_type": "markdown",
   "metadata": {
    "id": "rluZtw8Q2wYP"
   },
   "source": [
    "First, we need a **shell** cell (code prefixed with `!`) that installs the necessary Python modules (`fs` for memory filesystem, and `fonttools` with all the options, just to see if it works)."
   ]
  },
  {
   "cell_type": "code",
   "execution_count": null,
   "metadata": {
    "id": "ksHL8Vjv2s7_"
   },
   "outputs": [],
   "source": [
    "!pip install -U fs fonttools[ufo,lxml,woff,unicode,interpolatable,plot,symfont,pathops]"
   ]
  },
  {
   "cell_type": "markdown",
   "metadata": {
    "id": "-3UxnBdf3Fqp"
   },
   "source": [
    "Then, we have a **Python** cell that defines a variable `url`, which gives the URL to a font file."
   ]
  },
  {
   "cell_type": "code",
   "execution_count": null,
   "metadata": {
    "id": "96bdwngf3FMY"
   },
   "outputs": [],
   "source": [
    "url = \"https://github.com/googlefonts/noto-fonts/raw/main/unhinted/variable-ttf/NotoSans-VF.ttf\""
   ]
  },
  {
   "cell_type": "markdown",
   "metadata": {
    "id": "f5EJX0vN26V4"
   },
   "source": [
    "Another cell fetches the file and opens with `fontTools.ttLib`. This code could probably be better. "
   ]
  },
  {
   "cell_type": "code",
   "execution_count": null,
   "metadata": {
    "id": "_DeoK7bY3fxz"
   },
   "outputs": [],
   "source": []
  },
  {
   "cell_type": "code",
   "execution_count": null,
   "metadata": {
    "colab": {
     "base_uri": "https://localhost:8080/"
    },
    "id": "6vdh_Ap8MBMF",
    "outputId": "da6325e4-1e8e-46bf-af98-55ac76a9e4ee"
   },
   "outputs": [
    {
     "data": {
      "text/plain": [
       "2539368"
      ]
     },
     "execution_count": 5,
     "metadata": {},
     "output_type": "execute_result"
    }
   ],
   "source": [
    "from fontTools import ttLib\n",
    "from urllib.request import urlopen\n",
    "import fs.copy\n",
    "import fs.memoryfs\n",
    "\n",
    "mem_fs = fs.memoryfs.MemoryFS()\n",
    "\n",
    "with urlopen(url) as response:\n",
    "    data = response.read()\n",
    "mem_f = mem_fs.openbin(\"font\", mode=\"rw\")\n",
    "mem_f.write(data)\n",
    "f = ttLib.TTFont(mem_f)"
   ]
  },
  {
   "cell_type": "markdown",
   "metadata": {
    "id": "RUuhrUyK3nW8"
   },
   "source": [
    "Finally, we can do things with the `f` object."
   ]
  },
  {
   "cell_type": "code",
   "execution_count": null,
   "metadata": {
    "id": "SWA6dEuA3yGD"
   },
   "outputs": [],
   "source": [
    "print(f.keys())"
   ]
  }
 ],
 "metadata": {
  "colab": {
   "authorship_tag": "ABX9TyMWU9lXFtvWNKlX/LYnlWoj",
   "include_colab_link": true,
   "name": "Test Google Colab Jupyter Notebook.ipynb",
   "provenance": []
  },
  "kernelspec": {
   "display_name": "Python 3",
   "name": "python3"
  },
  "language_info": {
   "name": "python"
  }
 },
 "nbformat": 4,
 "nbformat_minor": 0
}